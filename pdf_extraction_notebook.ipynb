{
 "cells": [
  {
   "cell_type": "markdown",
   "id": "f086644a",
   "metadata": {},
   "source": [
    "# PDF Text Extraction using Azure Document Intelligence and OpenAI\n",
    "\n",
    "This notebook demonstrates how to:\n",
    "1. Extract text from PDF files using Azure Document Intelligence (formerly Form Recognizer)\n",
    "2. Process the extracted text using Azure OpenAI service\n",
    "3. Generate insights from the PDF content\n",
    "\n",
    "**Prerequisites:**\n",
    "- Azure Document Intelligence subscription\n",
    "- Azure OpenAI subscription\n",
    "- PDF file(s) to process"
   ]
  },
  {
   "cell_type": "markdown",
   "id": "22e11188",
   "metadata": {},
   "source": [
    "## 1. Install Required Packages\n",
    "\n",
    "Let's first install the necessary packages for working with Azure services and PDFs."
   ]
  },
  {
   "cell_type": "code",
   "execution_count": null,
   "id": "d06d240e",
   "metadata": {},
   "outputs": [
    {
     "ename": "",
     "evalue": "",
     "output_type": "error",
     "traceback": [
      "\u001b[1;31mRunning cells with 'Python 3.12.11' requires the ipykernel package.\n",
      "\u001b[1;31m<a href='command:jupyter.createPythonEnvAndSelectController'>Create a Python Environment</a> with the required packages.\n",
      "\u001b[1;31mOr install 'ipykernel' using the command: '/opt/homebrew/bin/python3.12 -m pip install ipykernel -U --user --force-reinstall'"
     ]
    }
   ],
   "source": [
    "# Install required packages\n",
    "%pip install azure-ai-documentintelligence\n",
    "%pip install azure-identity\n",
    "%pip install openai\n",
    "%pip install python-dotenv"
   ]
  },
  {
   "cell_type": "markdown",
   "id": "325ee35d",
   "metadata": {},
   "source": [
    "## 2. Import Required Libraries\n",
    "\n",
    "Now let's import the necessary libraries for our project."
   ]
  },
  {
   "cell_type": "code",
   "execution_count": null,
   "id": "27d9dd64",
   "metadata": {},
   "outputs": [],
   "source": [
    "import os\n",
    "import sys\n",
    "from pathlib import Path\n",
    "import matplotlib.pyplot as plt\n",
    "from IPython.display import display, Markdown\n",
    "from dotenv import load_dotenv\n",
    "import openai\n",
    "from azure.core.credentials import AzureKeyCredential\n",
    "from azure.ai.documentintelligence import DocumentIntelligenceClient\n",
    "\n",
    "# Load environment variables from .env file\n",
    "load_dotenv()"
   ]
  },
  {
   "cell_type": "markdown",
   "id": "fcd802d6",
   "metadata": {},
   "source": [
    "## 3. Set Up Azure Credentials\n",
    "\n",
    "To use Azure services, we need to set up our credentials. For security, we'll load these from environment variables.\n",
    "\n",
    "First, create a `.env` file in the same directory as this notebook with the following content:\n",
    "```\n",
    "# Azure OpenAI Configuration\n",
    "AZURE_OPENAI_API_KEY=your_azure_openai_api_key\n",
    "AZURE_OPENAI_ENDPOINT=your_azure_openai_endpoint\n",
    "AZURE_OPENAI_DEPLOYMENT_NAME=your_azure_openai_deployment_name\n",
    "\n",
    "# Azure Document Intelligence Configuration\n",
    "AZURE_DOC_INTELLIGENCE_KEY=your_azure_document_intelligence_key\n",
    "AZURE_DOC_INTELLIGENCE_ENDPOINT=your_azure_document_intelligence_endpoint\n",
    "```"
   ]
  },
  {
   "cell_type": "code",
   "execution_count": null,
   "id": "17daf995",
   "metadata": {},
   "outputs": [],
   "source": [
    "# Setup Azure Document Intelligence\n",
    "doc_intelligence_key = os.environ.get(\"AZURE_DOC_INTELLIGENCE_KEY\")\n",
    "doc_intelligence_endpoint = os.environ.get(\"AZURE_DOC_INTELLIGENCE_ENDPOINT\")\n",
    "\n",
    "# Verify credentials are loaded\n",
    "if not doc_intelligence_key or not doc_intelligence_endpoint:\n",
    "    print(\"⚠️ Azure Document Intelligence credentials not found in environment variables.\")\n",
    "else:\n",
    "    print(\"✓ Azure Document Intelligence credentials loaded.\")\n",
    "\n",
    "# Setup Azure OpenAI\n",
    "openai.api_key = os.environ.get(\"AZURE_OPENAI_API_KEY\")\n",
    "openai.api_base = os.environ.get(\"AZURE_OPENAI_ENDPOINT\")\n",
    "openai.api_type = \"azure\"\n",
    "openai.api_version = \"2023-12-01-preview\"  # Update this if needed\n",
    "deployment_name = os.environ.get(\"AZURE_OPENAI_DEPLOYMENT_NAME\")\n",
    "\n",
    "# Verify OpenAI credentials are loaded\n",
    "if not openai.api_key or not openai.api_base or not deployment_name:\n",
    "    print(\"⚠️ Azure OpenAI credentials not found in environment variables.\")\n",
    "else:\n",
    "    print(\"✓ Azure OpenAI credentials loaded.\")"
   ]
  },
  {
   "cell_type": "markdown",
   "id": "23395d73",
   "metadata": {},
   "source": [
    "## 4. PDF Processing Functions\n",
    "\n",
    "Let's create the functions that will:\n",
    "1. Extract text from PDFs using Azure Document Intelligence\n",
    "2. Process the extracted text using Azure OpenAI"
   ]
  },
  {
   "cell_type": "code",
   "execution_count": null,
   "id": "fe76b6c4",
   "metadata": {},
   "outputs": [],
   "source": [
    "def extract_text_from_pdf(pdf_path):\n",
    "    \"\"\"\n",
    "    Extract text from a PDF using Azure Document Intelligence service.\n",
    "    \n",
    "    Args:\n",
    "        pdf_path (str): Path to the PDF file\n",
    "        \n",
    "    Returns:\n",
    "        str: Extracted text from the PDF\n",
    "    \"\"\"\n",
    "    print(f\"Processing file: {pdf_path}\")\n",
    "    \n",
    "    # Initialize Document Intelligence client\n",
    "    document_intelligence_client = DocumentIntelligenceClient(\n",
    "        endpoint=doc_intelligence_endpoint,\n",
    "        credential=AzureKeyCredential(doc_intelligence_key)\n",
    "    )\n",
    "    \n",
    "    # Read PDF file\n",
    "    with open(pdf_path, \"rb\") as f:\n",
    "        document_bytes = f.read()\n",
    "    \n",
    "    # Analyze the document\n",
    "    print(\"Sending document to Azure Document Intelligence...\")\n",
    "    poller = document_intelligence_client.begin_analyze_document(\n",
    "        \"prebuilt-layout\",  # Using the layout model\n",
    "        document=document_bytes,\n",
    "        content_type=\"application/pdf\"\n",
    "    )\n",
    "    \n",
    "    print(\"Processing document...\")\n",
    "    # Get results\n",
    "    result = poller.result()\n",
    "    \n",
    "    # Extract text from the result\n",
    "    extracted_text = \"\"\n",
    "    page_count = len(result.pages)\n",
    "    print(f\"Document has {page_count} pages.\")\n",
    "    \n",
    "    for i, page in enumerate(result.pages, 1):\n",
    "        print(f\"Processing page {i}/{page_count}...\")\n",
    "        page_text = \"\"\n",
    "        for line in page.lines:\n",
    "            page_text += line.content + \"\\n\"\n",
    "        \n",
    "        extracted_text += f\"\\n--- Page {i} ---\\n{page_text}\\n\"\n",
    "    \n",
    "    print(\"Text extraction complete.\")\n",
    "    return extracted_text"
   ]
  },
  {
   "cell_type": "code",
   "execution_count": null,
   "id": "2ab2a15a",
   "metadata": {},
   "outputs": [],
   "source": [
    "def process_with_openai_agent(text, prompt=None):\n",
    "    \"\"\"\n",
    "    Process the extracted text using Azure OpenAI.\n",
    "    \n",
    "    Args:\n",
    "        text (str): Extracted text from the PDF\n",
    "        prompt (str, optional): Custom prompt for the OpenAI agent\n",
    "        \n",
    "    Returns:\n",
    "        dict: OpenAI API response\n",
    "    \"\"\"\n",
    "    print(\"Processing extracted text with Azure OpenAI...\")\n",
    "    \n",
    "    # Prepare prompt\n",
    "    system_message = \"You are an AI assistant that helps analyze and summarize document content.\"\n",
    "    \n",
    "    if not prompt:\n",
    "        user_message = f\"Analyze the following document content and provide a comprehensive summary, key points, and any notable information:\\n\\n{text[:3000]}...\"\n",
    "    else:\n",
    "        user_message = f\"{prompt}\\n\\n{text[:3000]}...\"\n",
    "    \n",
    "    # Call Azure OpenAI API\n",
    "    try:\n",
    "        response = openai.ChatCompletion.create(\n",
    "            engine=deployment_name,\n",
    "            messages=[\n",
    "                {\"role\": \"system\", \"content\": system_message},\n",
    "                {\"role\": \"user\", \"content\": user_message}\n",
    "            ],\n",
    "            temperature=0.3,\n",
    "            max_tokens=1000\n",
    "        )\n",
    "        \n",
    "        return response['choices'][0]['message']['content']\n",
    "    except Exception as e:\n",
    "        return f\"Error calling Azure OpenAI: {str(e)}\""
   ]
  },
  {
   "cell_type": "markdown",
   "id": "18e68ec8",
   "metadata": {},
   "source": [
    "## 5. Process a PDF File\n",
    "\n",
    "Now let's use the functions we've created to process a PDF file."
   ]
  },
  {
   "cell_type": "code",
   "execution_count": null,
   "id": "1730a58d",
   "metadata": {},
   "outputs": [],
   "source": [
    "# Set the path to the PDF file (update the path as needed)\n",
    "pdf_path = \"/Users/alvintai/Downloads/PUB/EN13945-4.pdf\"\n",
    "\n",
    "# Verify the file exists\n",
    "if not os.path.exists(pdf_path):\n",
    "    print(f\"Error: File not found - {pdf_path}\")\n",
    "else:\n",
    "    print(f\"Found PDF file: {pdf_path}\")\n",
    "    \n",
    "    # Extract text from PDF\n",
    "    try:\n",
    "        extracted_text = extract_text_from_pdf(pdf_path)\n",
    "        \n",
    "        # Display the first 1000 characters of the extracted text\n",
    "        print(\"\\nPreview of extracted text:\")\n",
    "        print(extracted_text[:1000] + \"...\")\n",
    "        \n",
    "        # Save the extracted text to a file\n",
    "        output_path = Path(pdf_path).stem + \"_extracted_text.txt\"\n",
    "        with open(output_path, \"w\", encoding=\"utf-8\") as f:\n",
    "            f.write(extracted_text)\n",
    "        \n",
    "        print(f\"\\nExtracted text saved to: {output_path}\")\n",
    "        \n",
    "    except Exception as e:\n",
    "        print(f\"Error: {str(e)}\")"
   ]
  },
  {
   "cell_type": "markdown",
   "id": "a1df4608",
   "metadata": {},
   "source": [
    "## 6. Process with Azure OpenAI\n",
    "\n",
    "Now let's analyze the extracted text using Azure OpenAI."
   ]
  },
  {
   "cell_type": "code",
   "execution_count": null,
   "id": "b252c95c",
   "metadata": {},
   "outputs": [],
   "source": [
    "# Check if we have extracted text available\n",
    "output_path = Path(pdf_path).stem + \"_extracted_text.txt\"\n",
    "if os.path.exists(output_path):\n",
    "    # Load the extracted text\n",
    "    with open(output_path, \"r\", encoding=\"utf-8\") as f:\n",
    "        extracted_text = f.read()\n",
    "    \n",
    "    # Process with Azure OpenAI\n",
    "    response = process_with_openai_agent(extracted_text)\n",
    "    \n",
    "    # Display the response\n",
    "    display(Markdown(\"## Azure OpenAI Analysis\"))\n",
    "    display(Markdown(response))\n",
    "else:\n",
    "    print(\"No extracted text available. Please run the previous cell first.\")"
   ]
  },
  {
   "cell_type": "markdown",
   "id": "b1698c9b",
   "metadata": {},
   "source": [
    "## 7. Custom Queries\n",
    "\n",
    "You can also send custom queries to the OpenAI agent about the PDF content."
   ]
  },
  {
   "cell_type": "code",
   "execution_count": null,
   "id": "29fd8fc6",
   "metadata": {},
   "outputs": [],
   "source": [
    "# Custom prompt for the OpenAI agent\n",
    "custom_prompt = \"Extract and list all the key technical specifications mentioned in the document.\"\n",
    "\n",
    "# Check if we have extracted text available\n",
    "output_path = Path(pdf_path).stem + \"_extracted_text.txt\"\n",
    "if os.path.exists(output_path):\n",
    "    # Load the extracted text\n",
    "    with open(output_path, \"r\", encoding=\"utf-8\") as f:\n",
    "        extracted_text = f.read()\n",
    "    \n",
    "    # Process with Azure OpenAI\n",
    "    response = process_with_openai_agent(extracted_text, prompt=custom_prompt)\n",
    "    \n",
    "    # Display the response\n",
    "    display(Markdown(\"## Custom Query Results\"))\n",
    "    display(Markdown(response))\n",
    "else:\n",
    "    print(\"No extracted text available. Please run the previous cells first.\")"
   ]
  },
  {
   "cell_type": "markdown",
   "id": "9aad00fe",
   "metadata": {},
   "source": [
    "## Conclusion\n",
    "\n",
    "In this notebook, we've demonstrated how to:\n",
    "\n",
    "1. Extract text from PDF documents using Azure Document Intelligence\n",
    "2. Process and analyze the extracted text using Azure OpenAI\n",
    "3. Run custom queries against the document content\n",
    "\n",
    "This workflow can be adapted for various document processing tasks such as:\n",
    "- Information extraction and summarization\n",
    "- Document classification\n",
    "- Data extraction for further processing\n",
    "- Compliance checking\n",
    "- And much more!"
   ]
  }
 ],
 "metadata": {
  "kernelspec": {
   "display_name": "Python 3",
   "language": "python",
   "name": "python3"
  },
  "language_info": {
   "name": "python",
   "version": "3.13.5"
  }
 },
 "nbformat": 4,
 "nbformat_minor": 5
}
